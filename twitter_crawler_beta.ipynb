{
  "nbformat": 4,
  "nbformat_minor": 0,
  "metadata": {
    "colab": {
      "provenance": []
    },
    "kernelspec": {
      "name": "python3",
      "display_name": "Python 3"
    },
    "language_info": {
      "name": "python"
    }
  },
  "cells": [
    {
      "cell_type": "code",
      "source": [
        "!pip install tweepy==4.10.0 --q\n",
        "!pip install wget --q"
      ],
      "metadata": {
        "id": "XNL1mKJCMN8N"
      },
      "execution_count": null,
      "outputs": []
    },
    {
      "cell_type": "code",
      "execution_count": 39,
      "metadata": {
        "id": "59vncbTPy0kr"
      },
      "outputs": [],
      "source": [
        "import tweepy\n",
        "import json\n",
        "import numpy as np\n",
        "import pandas as pd"
      ]
    },
    {
      "cell_type": "code",
      "source": [
        "print('TweePy version is:', tweepy.__version__)"
      ],
      "metadata": {
        "colab": {
          "base_uri": "https://localhost:8080/"
        },
        "id": "VzmatWkNzHzh",
        "outputId": "107acd78-1ac0-472d-f555-a75949cde8e9"
      },
      "execution_count": 12,
      "outputs": [
        {
          "output_type": "stream",
          "name": "stdout",
          "text": [
            "TweePy version is: 4.10.0\n"
          ]
        }
      ]
    },
    {
      "cell_type": "code",
      "source": [
        "def authenticate(creds_path):\n",
        "    '''\n",
        "    read the credentials and authenticate to Twitter \n",
        "    :param creds_path: str, containing path to credentials file\n",
        "    :return: api, the authenticated API object \n",
        "    '''\n",
        "    with open(creds_path, mode='r') as f: creds = json.load(f)\n",
        "    C_KEY, C_SECRET = creds['api_key'], creds['api_key_secret']\n",
        "    A_TOKEN, A_TOKEN_SECRET = creds['access_token'], creds['access_token_secret']\n",
        "    auth = tweepy.OAuthHandler(consumer_key=C_KEY, consumer_secret=C_SECRET)\n",
        "    auth.set_access_token(key=A_TOKEN, secret=A_TOKEN_SECRET)\n",
        "    api = tweepy.API(auth=auth, wait_on_rate_limit=True)\n",
        "    return api"
      ],
      "metadata": {
        "id": "XzJTK2CsIQx9"
      },
      "execution_count": 13,
      "outputs": []
    },
    {
      "cell_type": "code",
      "source": [
        "USR_NAME = 'MariusCrypt0'\n",
        "\n",
        "api = authenticate(creds_path='/content/twitter_creds.json')\n",
        "timeline = api.user_timeline(screen_name=USR_NAME, count=10, exclude_replies=True, include_rts=True)"
      ],
      "metadata": {
        "id": "-pfQ6xkz-R3K"
      },
      "execution_count": 26,
      "outputs": []
    },
    {
      "cell_type": "code",
      "source": [
        "timeline_df = pd.DataFrame(data=[[len(tweet.text), tweet.text, tweet.created_at, tweet.user.screen_name] for tweet in timeline], columns = ['Tweet_Length', 'Tweet_Text', 'Tweet_Date', 'UserName'])\n",
        "timeline_df.head(10)"
      ],
      "metadata": {
        "colab": {
          "base_uri": "https://localhost:8080/",
          "height": 300
        },
        "id": "v-hX6ualhYj8",
        "outputId": "57f54882-c56d-4dea-bb22-f6bd597289d5"
      },
      "execution_count": 27,
      "outputs": [
        {
          "output_type": "execute_result",
          "data": {
            "text/plain": [
              "   Tweet_Length                                         Tweet_Text  \\\n",
              "0           140  RT @vela_exchange: Say hello to Multichain Dep...   \n",
              "1            64  $VELA just activated buybacks.\\n\\nSend it! htt...   \n",
              "2            78  RT @CryptoNoob_1: #Bitcoin #BTC \\nHistory Repe...   \n",
              "3           140  RT @HeyItsMeTheDev: Flying to Los Angeles tomo...   \n",
              "4           130  Do you know why $BAG pumped so much yesterday?...   \n",
              "5           126  Yes, crypto is a full-time job.\\n\\nYes, it pay...   \n",
              "6           139  1/2\\n\\nThere's a new IDO coming up on the @Tru...   \n",
              "7           140  RT @ChadCaff: Arbitrum has the highest stablec...   \n",
              "\n",
              "                 Tweet_Date      UserName  \n",
              "0 2023-03-02 22:50:24+00:00  MariusCrypt0  \n",
              "1 2023-03-02 22:48:02+00:00  MariusCrypt0  \n",
              "2 2023-03-02 22:42:18+00:00  MariusCrypt0  \n",
              "3 2023-03-02 22:03:35+00:00  MariusCrypt0  \n",
              "4 2023-03-02 21:30:35+00:00  MariusCrypt0  \n",
              "5 2023-03-02 20:37:11+00:00  MariusCrypt0  \n",
              "6 2023-03-02 20:24:21+00:00  MariusCrypt0  \n",
              "7 2023-03-02 20:07:50+00:00  MariusCrypt0  "
            ],
            "text/html": [
              "\n",
              "  <div id=\"df-62d4f518-93bc-4541-ac2c-f076a0d01158\">\n",
              "    <div class=\"colab-df-container\">\n",
              "      <div>\n",
              "<style scoped>\n",
              "    .dataframe tbody tr th:only-of-type {\n",
              "        vertical-align: middle;\n",
              "    }\n",
              "\n",
              "    .dataframe tbody tr th {\n",
              "        vertical-align: top;\n",
              "    }\n",
              "\n",
              "    .dataframe thead th {\n",
              "        text-align: right;\n",
              "    }\n",
              "</style>\n",
              "<table border=\"1\" class=\"dataframe\">\n",
              "  <thead>\n",
              "    <tr style=\"text-align: right;\">\n",
              "      <th></th>\n",
              "      <th>Tweet_Length</th>\n",
              "      <th>Tweet_Text</th>\n",
              "      <th>Tweet_Date</th>\n",
              "      <th>UserName</th>\n",
              "    </tr>\n",
              "  </thead>\n",
              "  <tbody>\n",
              "    <tr>\n",
              "      <th>0</th>\n",
              "      <td>140</td>\n",
              "      <td>RT @vela_exchange: Say hello to Multichain Dep...</td>\n",
              "      <td>2023-03-02 22:50:24+00:00</td>\n",
              "      <td>MariusCrypt0</td>\n",
              "    </tr>\n",
              "    <tr>\n",
              "      <th>1</th>\n",
              "      <td>64</td>\n",
              "      <td>$VELA just activated buybacks.\\n\\nSend it! htt...</td>\n",
              "      <td>2023-03-02 22:48:02+00:00</td>\n",
              "      <td>MariusCrypt0</td>\n",
              "    </tr>\n",
              "    <tr>\n",
              "      <th>2</th>\n",
              "      <td>78</td>\n",
              "      <td>RT @CryptoNoob_1: #Bitcoin #BTC \\nHistory Repe...</td>\n",
              "      <td>2023-03-02 22:42:18+00:00</td>\n",
              "      <td>MariusCrypt0</td>\n",
              "    </tr>\n",
              "    <tr>\n",
              "      <th>3</th>\n",
              "      <td>140</td>\n",
              "      <td>RT @HeyItsMeTheDev: Flying to Los Angeles tomo...</td>\n",
              "      <td>2023-03-02 22:03:35+00:00</td>\n",
              "      <td>MariusCrypt0</td>\n",
              "    </tr>\n",
              "    <tr>\n",
              "      <th>4</th>\n",
              "      <td>130</td>\n",
              "      <td>Do you know why $BAG pumped so much yesterday?...</td>\n",
              "      <td>2023-03-02 21:30:35+00:00</td>\n",
              "      <td>MariusCrypt0</td>\n",
              "    </tr>\n",
              "    <tr>\n",
              "      <th>5</th>\n",
              "      <td>126</td>\n",
              "      <td>Yes, crypto is a full-time job.\\n\\nYes, it pay...</td>\n",
              "      <td>2023-03-02 20:37:11+00:00</td>\n",
              "      <td>MariusCrypt0</td>\n",
              "    </tr>\n",
              "    <tr>\n",
              "      <th>6</th>\n",
              "      <td>139</td>\n",
              "      <td>1/2\\n\\nThere's a new IDO coming up on the @Tru...</td>\n",
              "      <td>2023-03-02 20:24:21+00:00</td>\n",
              "      <td>MariusCrypt0</td>\n",
              "    </tr>\n",
              "    <tr>\n",
              "      <th>7</th>\n",
              "      <td>140</td>\n",
              "      <td>RT @ChadCaff: Arbitrum has the highest stablec...</td>\n",
              "      <td>2023-03-02 20:07:50+00:00</td>\n",
              "      <td>MariusCrypt0</td>\n",
              "    </tr>\n",
              "  </tbody>\n",
              "</table>\n",
              "</div>\n",
              "      <button class=\"colab-df-convert\" onclick=\"convertToInteractive('df-62d4f518-93bc-4541-ac2c-f076a0d01158')\"\n",
              "              title=\"Convert this dataframe to an interactive table.\"\n",
              "              style=\"display:none;\">\n",
              "        \n",
              "  <svg xmlns=\"http://www.w3.org/2000/svg\" height=\"24px\"viewBox=\"0 0 24 24\"\n",
              "       width=\"24px\">\n",
              "    <path d=\"M0 0h24v24H0V0z\" fill=\"none\"/>\n",
              "    <path d=\"M18.56 5.44l.94 2.06.94-2.06 2.06-.94-2.06-.94-.94-2.06-.94 2.06-2.06.94zm-11 1L8.5 8.5l.94-2.06 2.06-.94-2.06-.94L8.5 2.5l-.94 2.06-2.06.94zm10 10l.94 2.06.94-2.06 2.06-.94-2.06-.94-.94-2.06-.94 2.06-2.06.94z\"/><path d=\"M17.41 7.96l-1.37-1.37c-.4-.4-.92-.59-1.43-.59-.52 0-1.04.2-1.43.59L10.3 9.45l-7.72 7.72c-.78.78-.78 2.05 0 2.83L4 21.41c.39.39.9.59 1.41.59.51 0 1.02-.2 1.41-.59l7.78-7.78 2.81-2.81c.8-.78.8-2.07 0-2.86zM5.41 20L4 18.59l7.72-7.72 1.47 1.35L5.41 20z\"/>\n",
              "  </svg>\n",
              "      </button>\n",
              "      \n",
              "  <style>\n",
              "    .colab-df-container {\n",
              "      display:flex;\n",
              "      flex-wrap:wrap;\n",
              "      gap: 12px;\n",
              "    }\n",
              "\n",
              "    .colab-df-convert {\n",
              "      background-color: #E8F0FE;\n",
              "      border: none;\n",
              "      border-radius: 50%;\n",
              "      cursor: pointer;\n",
              "      display: none;\n",
              "      fill: #1967D2;\n",
              "      height: 32px;\n",
              "      padding: 0 0 0 0;\n",
              "      width: 32px;\n",
              "    }\n",
              "\n",
              "    .colab-df-convert:hover {\n",
              "      background-color: #E2EBFA;\n",
              "      box-shadow: 0px 1px 2px rgba(60, 64, 67, 0.3), 0px 1px 3px 1px rgba(60, 64, 67, 0.15);\n",
              "      fill: #174EA6;\n",
              "    }\n",
              "\n",
              "    [theme=dark] .colab-df-convert {\n",
              "      background-color: #3B4455;\n",
              "      fill: #D2E3FC;\n",
              "    }\n",
              "\n",
              "    [theme=dark] .colab-df-convert:hover {\n",
              "      background-color: #434B5C;\n",
              "      box-shadow: 0px 1px 3px 1px rgba(0, 0, 0, 0.15);\n",
              "      filter: drop-shadow(0px 1px 2px rgba(0, 0, 0, 0.3));\n",
              "      fill: #FFFFFF;\n",
              "    }\n",
              "  </style>\n",
              "\n",
              "      <script>\n",
              "        const buttonEl =\n",
              "          document.querySelector('#df-62d4f518-93bc-4541-ac2c-f076a0d01158 button.colab-df-convert');\n",
              "        buttonEl.style.display =\n",
              "          google.colab.kernel.accessAllowed ? 'block' : 'none';\n",
              "\n",
              "        async function convertToInteractive(key) {\n",
              "          const element = document.querySelector('#df-62d4f518-93bc-4541-ac2c-f076a0d01158');\n",
              "          const dataTable =\n",
              "            await google.colab.kernel.invokeFunction('convertToInteractive',\n",
              "                                                     [key], {});\n",
              "          if (!dataTable) return;\n",
              "\n",
              "          const docLinkHtml = 'Like what you see? Visit the ' +\n",
              "            '<a target=\"_blank\" href=https://colab.research.google.com/notebooks/data_table.ipynb>data table notebook</a>'\n",
              "            + ' to learn more about interactive tables.';\n",
              "          element.innerHTML = '';\n",
              "          dataTable['output_type'] = 'display_data';\n",
              "          await google.colab.output.renderOutput(dataTable, element);\n",
              "          const docLink = document.createElement('div');\n",
              "          docLink.innerHTML = docLinkHtml;\n",
              "          element.appendChild(docLink);\n",
              "        }\n",
              "      </script>\n",
              "    </div>\n",
              "  </div>\n",
              "  "
            ]
          },
          "metadata": {},
          "execution_count": 27
        }
      ]
    },
    {
      "cell_type": "code",
      "source": [
        "tmp = timeline[2]"
      ],
      "metadata": {
        "id": "4YkAHdZWTi9O"
      },
      "execution_count": 54,
      "outputs": []
    },
    {
      "cell_type": "code",
      "source": [
        "tweet_time = tmp.created_at.strftime('%a, %d/%B/%Y, %H:%M %Z')\n",
        "print(tweet_time)"
      ],
      "metadata": {
        "colab": {
          "base_uri": "https://localhost:8080/"
        },
        "id": "Nuwbrb7BVgRd",
        "outputId": "fbb396c9-e998-4ecf-ab0a-f34a97dbaae7"
      },
      "execution_count": 29,
      "outputs": [
        {
          "output_type": "stream",
          "name": "stdout",
          "text": [
            "Thu, 02/March/2023, 22:42 UTC\n"
          ]
        }
      ]
    },
    {
      "cell_type": "code",
      "source": [
        "from PIL import Image\n",
        "import wget\n",
        "\n",
        "media_files = tmp.entities.get('media', [])\n",
        "for idx, media_file in enumerate(media_files):\n",
        "    media_url = media_file['media_url']\n",
        "    media_name = tmp.id_str + '_' + str(idx) + media_url[media_url.rfind('.'):]\n",
        "    img = wget.download(url=media_url, out=media_name)"
      ],
      "metadata": {
        "id": "-t-quAOUt5jC"
      },
      "execution_count": null,
      "outputs": []
    },
    {
      "cell_type": "code",
      "source": [
        "if tmp.text.startswith('RT'):\n",
        "    original_author = tmp.entities.get('user_mentions')[0].get('screen_name')\n",
        "    print(original_author)"
      ],
      "metadata": {
        "colab": {
          "base_uri": "https://localhost:8080/"
        },
        "id": "GNUDcevZ1-E2",
        "outputId": "cf81a7a5-1e1e-4dcd-da90-8544962b30a1"
      },
      "execution_count": 104,
      "outputs": [
        {
          "output_type": "stream",
          "name": "stdout",
          "text": [
            "CryptoNoob_1\n"
          ]
        }
      ]
    },
    {
      "cell_type": "code",
      "source": [],
      "metadata": {
        "id": "LJgcUMc-1-HS"
      },
      "execution_count": null,
      "outputs": []
    },
    {
      "cell_type": "code",
      "source": [],
      "metadata": {
        "id": "SaIK6aHM1-Jo"
      },
      "execution_count": null,
      "outputs": []
    }
  ]
}