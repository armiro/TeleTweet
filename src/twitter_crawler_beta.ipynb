{
  "nbformat": 4,
  "nbformat_minor": 0,
  "metadata": {
    "colab": {
      "provenance": []
    },
    "kernelspec": {
      "name": "python3",
      "display_name": "Python 3"
    },
    "language_info": {
      "name": "python"
    }
  },
  "cells": [
    {
      "cell_type": "code",
      "source": [
        "!pip install tweepy==4.10.0 --q\n",
        "!pip install wget --q"
      ],
      "metadata": {
        "id": "XNL1mKJCMN8N"
      },
      "execution_count": null,
      "outputs": []
    },
    {
      "cell_type": "code",
      "execution_count": 2,
      "metadata": {
        "id": "59vncbTPy0kr"
      },
      "outputs": [],
      "source": [
        "import tweepy\n",
        "import json\n",
        "import numpy as np\n",
        "import pandas as pd\n",
        "from PIL import Image\n",
        "import wget"
      ]
    },
    {
      "cell_type": "code",
      "source": [
        "print('TweePy version is:', tweepy.__version__)"
      ],
      "metadata": {
        "colab": {
          "base_uri": "https://localhost:8080/"
        },
        "id": "VzmatWkNzHzh",
        "outputId": "ed19a748-46e6-4a56-9545-c323fc25416a"
      },
      "execution_count": 3,
      "outputs": [
        {
          "output_type": "stream",
          "name": "stdout",
          "text": [
            "TweePy version is: 4.10.0\n"
          ]
        }
      ]
    },
    {
      "cell_type": "code",
      "source": [
        "def authenticate(creds_path):\n",
        "    '''\n",
        "    read the credentials and authenticate to Twitter \n",
        "    :param creds_path: str, containing path to credentials file\n",
        "    :return: api, the authenticated API object \n",
        "    '''\n",
        "    with open(creds_path, mode='r') as f: creds = json.load(f)\n",
        "    C_KEY, C_SECRET = creds['api_key'], creds['api_key_secret']\n",
        "    A_TOKEN, A_TOKEN_SECRET = creds['access_token'], creds['access_token_secret']\n",
        "    auth = tweepy.OAuthHandler(consumer_key=C_KEY, consumer_secret=C_SECRET)\n",
        "    auth.set_access_token(key=A_TOKEN, secret=A_TOKEN_SECRET)\n",
        "    api = tweepy.API(auth=auth, wait_on_rate_limit=True)\n",
        "    return api"
      ],
      "metadata": {
        "id": "XzJTK2CsIQx9"
      },
      "execution_count": 4,
      "outputs": []
    },
    {
      "cell_type": "code",
      "source": [
        "USR_NAME = 'MariusCrypt0'\n",
        "\n",
        "api = authenticate(creds_path='/content/twitter_creds.json')\n",
        "timeline = api.user_timeline(screen_name=USR_NAME, count=50, exclude_replies=True, include_rts=True,\n",
        "                             tweet_mode='extended')"
      ],
      "metadata": {
        "id": "-pfQ6xkz-R3K"
      },
      "execution_count": 5,
      "outputs": []
    },
    {
      "cell_type": "code",
      "source": [
        "timeline_df = pd.DataFrame(data=[[len(tweet.full_text), tweet.full_text, tweet.created_at, tweet.user.screen_name] for tweet in timeline], columns = ['Tweet_Length', 'Tweet_Text', 'Tweet_Date', 'UserName'])\n",
        "timeline_df.head(10)"
      ],
      "metadata": {
        "colab": {
          "base_uri": "https://localhost:8080/",
          "height": 363
        },
        "id": "v-hX6ualhYj8",
        "outputId": "c76f1f31-9d2c-4544-d3ec-a901363ebf9a"
      },
      "execution_count": 6,
      "outputs": [
        {
          "output_type": "execute_result",
          "data": {
            "text/plain": [
              "   Tweet_Length                                         Tweet_Text  \\\n",
              "0           140  RT @IncomeSharks: #Alts - Look so close to jus...   \n",
              "1           140  RT @hasantoxr: Canva has over 125 million user...   \n",
              "2           140  RT @DSBatten: The report is up\\n\\nBitcoin's ma...   \n",
              "3            48   RT @CryptoKaleo: What if https://t.co/gS7yUKqLsj   \n",
              "4           144  RT @RealLittleFishh: #tehBag is almost 3 month...   \n",
              "5            28                       How much of a Degen are you?   \n",
              "6           117  RT @alpha_pls: Arbitrum shows no signs of slow...   \n",
              "7           140  RT @MariusCrypt0: $LOOP is at such a good pric...   \n",
              "8           100  Sniped myself some floor and some rare Dev NFT...   \n",
              "9           212  No matter how often someone dumps, $OPTI #OPTI...   \n",
              "\n",
              "                 Tweet_Date      UserName  \n",
              "0 2023-03-31 16:40:45+00:00  MariusCrypt0  \n",
              "1 2023-03-31 09:40:09+00:00  MariusCrypt0  \n",
              "2 2023-03-31 07:41:03+00:00  MariusCrypt0  \n",
              "3 2023-03-31 07:40:56+00:00  MariusCrypt0  \n",
              "4 2023-03-30 21:07:13+00:00  MariusCrypt0  \n",
              "5 2023-03-30 16:16:22+00:00  MariusCrypt0  \n",
              "6 2023-03-30 16:02:32+00:00  MariusCrypt0  \n",
              "7 2023-03-30 15:21:13+00:00  MariusCrypt0  \n",
              "8 2023-03-30 12:49:18+00:00  MariusCrypt0  \n",
              "9 2023-03-30 12:11:15+00:00  MariusCrypt0  "
            ],
            "text/html": [
              "\n",
              "  <div id=\"df-24fc3065-5bf9-4f67-9b3c-9f5b35dfabcc\">\n",
              "    <div class=\"colab-df-container\">\n",
              "      <div>\n",
              "<style scoped>\n",
              "    .dataframe tbody tr th:only-of-type {\n",
              "        vertical-align: middle;\n",
              "    }\n",
              "\n",
              "    .dataframe tbody tr th {\n",
              "        vertical-align: top;\n",
              "    }\n",
              "\n",
              "    .dataframe thead th {\n",
              "        text-align: right;\n",
              "    }\n",
              "</style>\n",
              "<table border=\"1\" class=\"dataframe\">\n",
              "  <thead>\n",
              "    <tr style=\"text-align: right;\">\n",
              "      <th></th>\n",
              "      <th>Tweet_Length</th>\n",
              "      <th>Tweet_Text</th>\n",
              "      <th>Tweet_Date</th>\n",
              "      <th>UserName</th>\n",
              "    </tr>\n",
              "  </thead>\n",
              "  <tbody>\n",
              "    <tr>\n",
              "      <th>0</th>\n",
              "      <td>140</td>\n",
              "      <td>RT @IncomeSharks: #Alts - Look so close to jus...</td>\n",
              "      <td>2023-03-31 16:40:45+00:00</td>\n",
              "      <td>MariusCrypt0</td>\n",
              "    </tr>\n",
              "    <tr>\n",
              "      <th>1</th>\n",
              "      <td>140</td>\n",
              "      <td>RT @hasantoxr: Canva has over 125 million user...</td>\n",
              "      <td>2023-03-31 09:40:09+00:00</td>\n",
              "      <td>MariusCrypt0</td>\n",
              "    </tr>\n",
              "    <tr>\n",
              "      <th>2</th>\n",
              "      <td>140</td>\n",
              "      <td>RT @DSBatten: The report is up\\n\\nBitcoin's ma...</td>\n",
              "      <td>2023-03-31 07:41:03+00:00</td>\n",
              "      <td>MariusCrypt0</td>\n",
              "    </tr>\n",
              "    <tr>\n",
              "      <th>3</th>\n",
              "      <td>48</td>\n",
              "      <td>RT @CryptoKaleo: What if https://t.co/gS7yUKqLsj</td>\n",
              "      <td>2023-03-31 07:40:56+00:00</td>\n",
              "      <td>MariusCrypt0</td>\n",
              "    </tr>\n",
              "    <tr>\n",
              "      <th>4</th>\n",
              "      <td>144</td>\n",
              "      <td>RT @RealLittleFishh: #tehBag is almost 3 month...</td>\n",
              "      <td>2023-03-30 21:07:13+00:00</td>\n",
              "      <td>MariusCrypt0</td>\n",
              "    </tr>\n",
              "    <tr>\n",
              "      <th>5</th>\n",
              "      <td>28</td>\n",
              "      <td>How much of a Degen are you?</td>\n",
              "      <td>2023-03-30 16:16:22+00:00</td>\n",
              "      <td>MariusCrypt0</td>\n",
              "    </tr>\n",
              "    <tr>\n",
              "      <th>6</th>\n",
              "      <td>117</td>\n",
              "      <td>RT @alpha_pls: Arbitrum shows no signs of slow...</td>\n",
              "      <td>2023-03-30 16:02:32+00:00</td>\n",
              "      <td>MariusCrypt0</td>\n",
              "    </tr>\n",
              "    <tr>\n",
              "      <th>7</th>\n",
              "      <td>140</td>\n",
              "      <td>RT @MariusCrypt0: $LOOP is at such a good pric...</td>\n",
              "      <td>2023-03-30 15:21:13+00:00</td>\n",
              "      <td>MariusCrypt0</td>\n",
              "    </tr>\n",
              "    <tr>\n",
              "      <th>8</th>\n",
              "      <td>100</td>\n",
              "      <td>Sniped myself some floor and some rare Dev NFT...</td>\n",
              "      <td>2023-03-30 12:49:18+00:00</td>\n",
              "      <td>MariusCrypt0</td>\n",
              "    </tr>\n",
              "    <tr>\n",
              "      <th>9</th>\n",
              "      <td>212</td>\n",
              "      <td>No matter how often someone dumps, $OPTI #OPTI...</td>\n",
              "      <td>2023-03-30 12:11:15+00:00</td>\n",
              "      <td>MariusCrypt0</td>\n",
              "    </tr>\n",
              "  </tbody>\n",
              "</table>\n",
              "</div>\n",
              "      <button class=\"colab-df-convert\" onclick=\"convertToInteractive('df-24fc3065-5bf9-4f67-9b3c-9f5b35dfabcc')\"\n",
              "              title=\"Convert this dataframe to an interactive table.\"\n",
              "              style=\"display:none;\">\n",
              "        \n",
              "  <svg xmlns=\"http://www.w3.org/2000/svg\" height=\"24px\"viewBox=\"0 0 24 24\"\n",
              "       width=\"24px\">\n",
              "    <path d=\"M0 0h24v24H0V0z\" fill=\"none\"/>\n",
              "    <path d=\"M18.56 5.44l.94 2.06.94-2.06 2.06-.94-2.06-.94-.94-2.06-.94 2.06-2.06.94zm-11 1L8.5 8.5l.94-2.06 2.06-.94-2.06-.94L8.5 2.5l-.94 2.06-2.06.94zm10 10l.94 2.06.94-2.06 2.06-.94-2.06-.94-.94-2.06-.94 2.06-2.06.94z\"/><path d=\"M17.41 7.96l-1.37-1.37c-.4-.4-.92-.59-1.43-.59-.52 0-1.04.2-1.43.59L10.3 9.45l-7.72 7.72c-.78.78-.78 2.05 0 2.83L4 21.41c.39.39.9.59 1.41.59.51 0 1.02-.2 1.41-.59l7.78-7.78 2.81-2.81c.8-.78.8-2.07 0-2.86zM5.41 20L4 18.59l7.72-7.72 1.47 1.35L5.41 20z\"/>\n",
              "  </svg>\n",
              "      </button>\n",
              "      \n",
              "  <style>\n",
              "    .colab-df-container {\n",
              "      display:flex;\n",
              "      flex-wrap:wrap;\n",
              "      gap: 12px;\n",
              "    }\n",
              "\n",
              "    .colab-df-convert {\n",
              "      background-color: #E8F0FE;\n",
              "      border: none;\n",
              "      border-radius: 50%;\n",
              "      cursor: pointer;\n",
              "      display: none;\n",
              "      fill: #1967D2;\n",
              "      height: 32px;\n",
              "      padding: 0 0 0 0;\n",
              "      width: 32px;\n",
              "    }\n",
              "\n",
              "    .colab-df-convert:hover {\n",
              "      background-color: #E2EBFA;\n",
              "      box-shadow: 0px 1px 2px rgba(60, 64, 67, 0.3), 0px 1px 3px 1px rgba(60, 64, 67, 0.15);\n",
              "      fill: #174EA6;\n",
              "    }\n",
              "\n",
              "    [theme=dark] .colab-df-convert {\n",
              "      background-color: #3B4455;\n",
              "      fill: #D2E3FC;\n",
              "    }\n",
              "\n",
              "    [theme=dark] .colab-df-convert:hover {\n",
              "      background-color: #434B5C;\n",
              "      box-shadow: 0px 1px 3px 1px rgba(0, 0, 0, 0.15);\n",
              "      filter: drop-shadow(0px 1px 2px rgba(0, 0, 0, 0.3));\n",
              "      fill: #FFFFFF;\n",
              "    }\n",
              "  </style>\n",
              "\n",
              "      <script>\n",
              "        const buttonEl =\n",
              "          document.querySelector('#df-24fc3065-5bf9-4f67-9b3c-9f5b35dfabcc button.colab-df-convert');\n",
              "        buttonEl.style.display =\n",
              "          google.colab.kernel.accessAllowed ? 'block' : 'none';\n",
              "\n",
              "        async function convertToInteractive(key) {\n",
              "          const element = document.querySelector('#df-24fc3065-5bf9-4f67-9b3c-9f5b35dfabcc');\n",
              "          const dataTable =\n",
              "            await google.colab.kernel.invokeFunction('convertToInteractive',\n",
              "                                                     [key], {});\n",
              "          if (!dataTable) return;\n",
              "\n",
              "          const docLinkHtml = 'Like what you see? Visit the ' +\n",
              "            '<a target=\"_blank\" href=https://colab.research.google.com/notebooks/data_table.ipynb>data table notebook</a>'\n",
              "            + ' to learn more about interactive tables.';\n",
              "          element.innerHTML = '';\n",
              "          dataTable['output_type'] = 'display_data';\n",
              "          await google.colab.output.renderOutput(dataTable, element);\n",
              "          const docLink = document.createElement('div');\n",
              "          docLink.innerHTML = docLinkHtml;\n",
              "          element.appendChild(docLink);\n",
              "        }\n",
              "      </script>\n",
              "    </div>\n",
              "  </div>\n",
              "  "
            ]
          },
          "metadata": {},
          "execution_count": 6
        }
      ]
    },
    {
      "cell_type": "code",
      "source": [
        "def extract_status_time(tweet):\n",
        "    return tweet.created_at.strftime('%a, %d/%B/%Y, %H:%M %Z')\n",
        "\n",
        "\n",
        "def extract_tags_and_symbols(tweet, is_retweet):\n",
        "    if is_retweet: \n",
        "        tags = tweet.retweeted_status.entities['hashtags']\n",
        "        symbols = tweet.retweeted_status.entities['symbols']\n",
        "    else:\n",
        "        tags = tweet.entities['hashtags']\n",
        "        symbols = tweet.entities['symbols']\n",
        "    tags = ['#' + tag['text'] for tag in tags]\n",
        "    symbols = ['$' + symbol['text'] for symbol in symbols]\n",
        "    return tags, symbols\n",
        "\n",
        "\n",
        "def download_media(tweet, is_retweet):\n",
        "    if is_retweet:\n",
        "        media_files = tweet.retweeted_status.entities.get('media', [])\n",
        "    else:\n",
        "        media_files = tweet.entities.get('media', [])\n",
        "\n",
        "    for idx, media_file in enumerate(media_files):\n",
        "        media_url = media_file['media_url']\n",
        "        media_name = tweet.id_str + '_' + str(idx) + media_url[media_url.rfind('.'):]\n",
        "        img = wget.download(url=media_url, out=media_name)\n",
        "        print(f'downloded image no. {idx+1} successfully!')\n",
        "\n",
        "    if not(len(media_files)): print('no downloadable images found!')\n",
        "    return None\n",
        "\n",
        "\n",
        "def print_author(tweet, is_retweet):\n",
        "    if is_retweet:\n",
        "        original_author_name = tweet.entities.get('user_mentions')[0].get('name')\n",
        "        original_author_handle = tweet.entities.get('user_mentions')[0].get('screen_name')\n",
        "        print('RT:', original_author_name + ' @' + original_author_handle)\n",
        "    else:\n",
        "        print('Originally tweeted by:', tweet.author.name + ' @' + tweet.author.screen_name)\n",
        "    return None\n",
        "\n",
        "\n",
        "def extract_full_text(tweet, is_retweet):\n",
        "    return tweet.retweeted_status.full_text if is_retweet else tweet.full_text"
      ],
      "metadata": {
        "id": "EwXh-5WjQgsM"
      },
      "execution_count": 21,
      "outputs": []
    },
    {
      "cell_type": "code",
      "source": [
        "for status in timeline:\n",
        "    print('--------------------------------------')\n",
        "    is_retweet = status.full_text.startswith('RT')\n",
        "    status_time = extract_status_time(status)\n",
        "    print('tweet posted at: ', status_time)\n",
        "    tags, symbols = extract_tags_and_symbols(status, is_retweet=is_retweet)\n",
        "    print('tweet has these tags:', tags)\n",
        "    print('tweet has these symbols:', symbols)\n",
        "    print_author(status, is_retweet=is_retweet)\n",
        "    text = extract_full_text(status, is_retweet=is_retweet)\n",
        "    print('full tweet text: \\n', text)\n",
        "    # download_media(status, is_retweet=is_retweet)\n",
        "    print('--------------------------------------')\n",
        "    break"
      ],
      "metadata": {
        "colab": {
          "base_uri": "https://localhost:8080/"
        },
        "id": "FJrL6DTxMLOS",
        "outputId": "b53ebe0f-12af-412d-e447-a4a822d15bb2"
      },
      "execution_count": 20,
      "outputs": [
        {
          "output_type": "stream",
          "name": "stdout",
          "text": [
            "--------------------------------------\n",
            "tweet posted at:  Fri, 31/March/2023, 16:40 UTC\n",
            "tweet has these tags: ['#Alts']\n",
            "tweet has these symbols: []\n",
            "RT: IncomeSharks @IncomeSharks\n",
            "full tweet text: \n",
            " #Alts - Look so close to just going wild. I wouldn't be surprised if this is the 3rd time we've started an alt coin rally on April Fools Day (April 1st) https://t.co/6AHmvBqC3p\n",
            "--------------------------------------\n"
          ]
        }
      ]
    },
    {
      "cell_type": "code",
      "source": [],
      "metadata": {
        "id": "h8pUqFCNMLQc"
      },
      "execution_count": null,
      "outputs": []
    },
    {
      "cell_type": "code",
      "source": [],
      "metadata": {
        "id": "bn8PGtnuMLSh"
      },
      "execution_count": null,
      "outputs": []
    }
  ]
}